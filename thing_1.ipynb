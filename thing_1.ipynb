{
 "cells": [
  {
   "cell_type": "code",
   "execution_count": 1,
   "metadata": {},
   "outputs": [
    {
     "name": "stdout",
     "output_type": "stream",
     "text": [
      "Collecting snap-stanford\n",
      "  Using cached snap_stanford-6.0.0-cp39-cp39-win_amd64.whl.metadata (5.4 kB)\n",
      "Using cached snap_stanford-6.0.0-cp39-cp39-win_amd64.whl (9.2 MB)\n",
      "Installing collected packages: snap-stanford\n",
      "Successfully installed snap-stanford-6.0.0\n",
      "Note: you may need to restart the kernel to use updated packages.\n"
     ]
    }
   ],
   "source": [
    "%pip install snap-stanford"
   ]
  },
  {
   "cell_type": "code",
   "execution_count": 2,
   "metadata": {},
   "outputs": [
    {
     "name": "stdout",
     "output_type": "stream",
     "text": [
      "^C\n",
      "Note: you may need to restart the kernel to use updated packages.\n"
     ]
    },
    {
     "name": "stdout",
     "output_type": "stream",
     "text": [
      "Collecting networkx\n",
      "  Downloading networkx-3.2.1-py3-none-any.whl.metadata (5.2 kB)\n",
      "Downloading networkx-3.2.1-py3-none-any.whl (1.6 MB)\n",
      "   ---------------------------------------- 0.0/1.6 MB ? eta -:--:--\n",
      "   ------------ --------------------------- 0.5/1.6 MB 5.6 MB/s eta 0:00:01\n",
      "   ------------------------------- -------- 1.3/1.6 MB 3.7 MB/s eta 0:00:01\n",
      "   ---------------------------------------- 1.6/1.6 MB 3.5 MB/s eta 0:00:00\n",
      "Installing collected packages: networkx\n",
      "Successfully installed networkx-3.2.1\n"
     ]
    }
   ],
   "source": [
    "%pip install networkx"
   ]
  },
  {
   "cell_type": "code",
   "execution_count": 1,
   "metadata": {},
   "outputs": [
    {
     "name": "stdout",
     "output_type": "stream",
     "text": [
      "Note: you may need to restart the kernel to use updated packages.\n"
     ]
    },
    {
     "name": "stderr",
     "output_type": "stream",
     "text": [
      "ERROR: Could not find a version that satisfies the requirement comunity (from versions: none)\n",
      "ERROR: No matching distribution found for comunity\n"
     ]
    }
   ],
   "source": [
    "%pip install comunity"
   ]
  },
  {
   "cell_type": "code",
   "execution_count": null,
   "metadata": {},
   "outputs": [],
   "source": [
    "%pip install gzip"
   ]
  },
  {
   "cell_type": "code",
   "execution_count": null,
   "metadata": {},
   "outputs": [],
   "source": [
    "%pip install python-louvain"
   ]
  },
  {
   "cell_type": "code",
   "execution_count": 4,
   "metadata": {},
   "outputs": [
    {
     "name": "stdout",
     "output_type": "stream",
     "text": [
      "Requirement already satisfied: matplotlib in c:\\users\\abdelaziz guelfane\\micromamba\\envs\\snap_env\\lib\\site-packages (3.9.4)\n",
      "Requirement already satisfied: contourpy>=1.0.1 in c:\\users\\abdelaziz guelfane\\micromamba\\envs\\snap_env\\lib\\site-packages (from matplotlib) (1.3.0)\n",
      "Requirement already satisfied: cycler>=0.10 in c:\\users\\abdelaziz guelfane\\micromamba\\envs\\snap_env\\lib\\site-packages (from matplotlib) (0.12.1)\n",
      "Requirement already satisfied: fonttools>=4.22.0 in c:\\users\\abdelaziz guelfane\\micromamba\\envs\\snap_env\\lib\\site-packages (from matplotlib) (4.56.0)\n",
      "Requirement already satisfied: kiwisolver>=1.3.1 in c:\\users\\abdelaziz guelfane\\micromamba\\envs\\snap_env\\lib\\site-packages (from matplotlib) (1.4.7)\n",
      "Requirement already satisfied: numpy>=1.23 in c:\\users\\abdelaziz guelfane\\micromamba\\envs\\snap_env\\lib\\site-packages (from matplotlib) (2.0.2)\n",
      "Requirement already satisfied: packaging>=20.0 in c:\\users\\abdelaziz guelfane\\micromamba\\envs\\snap_env\\lib\\site-packages (from matplotlib) (24.2)\n",
      "Requirement already satisfied: pillow>=8 in c:\\users\\abdelaziz guelfane\\micromamba\\envs\\snap_env\\lib\\site-packages (from matplotlib) (11.1.0)\n",
      "Requirement already satisfied: pyparsing>=2.3.1 in c:\\users\\abdelaziz guelfane\\micromamba\\envs\\snap_env\\lib\\site-packages (from matplotlib) (3.2.1)\n",
      "Requirement already satisfied: python-dateutil>=2.7 in c:\\users\\abdelaziz guelfane\\micromamba\\envs\\snap_env\\lib\\site-packages (from matplotlib) (2.9.0.post0)\n",
      "Requirement already satisfied: importlib-resources>=3.2.0 in c:\\users\\abdelaziz guelfane\\micromamba\\envs\\snap_env\\lib\\site-packages (from matplotlib) (6.5.2)\n",
      "Requirement already satisfied: zipp>=3.1.0 in c:\\users\\abdelaziz guelfane\\micromamba\\envs\\snap_env\\lib\\site-packages (from importlib-resources>=3.2.0->matplotlib) (3.21.0)\n",
      "Requirement already satisfied: six>=1.5 in c:\\users\\abdelaziz guelfane\\micromamba\\envs\\snap_env\\lib\\site-packages (from python-dateutil>=2.7->matplotlib) (1.17.0)\n",
      "Note: you may need to restart the kernel to use updated packages.\n"
     ]
    }
   ],
   "source": [
    "%pip install matplotlib"
   ]
  },
  {
   "cell_type": "code",
   "execution_count": 9,
   "metadata": {},
   "outputs": [
    {
     "ename": "OSError",
     "evalue": "[Errno 22] Invalid argument: 'file_path = \"CA-GrQc.txt\"'",
     "output_type": "error",
     "traceback": [
      "\u001b[1;31m---------------------------------------------------------------------------\u001b[0m",
      "\u001b[1;31mOSError\u001b[0m                                   Traceback (most recent call last)",
      "Cell \u001b[1;32mIn[9], line 37\u001b[0m\n\u001b[0;32m     35\u001b[0m \u001b[38;5;66;03m# Load the graph\u001b[39;00m\n\u001b[0;32m     36\u001b[0m file_path \u001b[38;5;241m=\u001b[39m \u001b[38;5;124m'\u001b[39m\u001b[38;5;124mfile_path = \u001b[39m\u001b[38;5;124m\"\u001b[39m\u001b[38;5;124mCA-GrQc.txt\u001b[39m\u001b[38;5;124m\"\u001b[39m\u001b[38;5;124m'\u001b[39m\n\u001b[1;32m---> 37\u001b[0m snap_graph \u001b[38;5;241m=\u001b[39m \u001b[43mload_graph_from_gz\u001b[49m\u001b[43m(\u001b[49m\u001b[43mfile_path\u001b[49m\u001b[43m)\u001b[49m\n\u001b[0;32m     39\u001b[0m \u001b[38;5;66;03m# Basic graph properties\u001b[39;00m\n\u001b[0;32m     40\u001b[0m \u001b[38;5;28mprint\u001b[39m(\u001b[38;5;124m\"\u001b[39m\u001b[38;5;124mNumber of Nodes:\u001b[39m\u001b[38;5;124m\"\u001b[39m, snap_graph\u001b[38;5;241m.\u001b[39mGetNodes())\n",
      "Cell \u001b[1;32mIn[9], line 12\u001b[0m, in \u001b[0;36mload_graph_from_gz\u001b[1;34m(file_path)\u001b[0m\n\u001b[0;32m      9\u001b[0m \u001b[38;5;28;01mdef\u001b[39;00m\u001b[38;5;250m \u001b[39m\u001b[38;5;21mload_graph_from_gz\u001b[39m(file_path):\n\u001b[0;32m     10\u001b[0m     G \u001b[38;5;241m=\u001b[39m snap\u001b[38;5;241m.\u001b[39mTUNGraph\u001b[38;5;241m.\u001b[39mNew()  \u001b[38;5;66;03m# Create an undirected graph\u001b[39;00m\n\u001b[1;32m---> 12\u001b[0m     \u001b[38;5;28;01mwith\u001b[39;00m \u001b[43mgzip\u001b[49m\u001b[38;5;241;43m.\u001b[39;49m\u001b[43mopen\u001b[49m\u001b[43m(\u001b[49m\u001b[43mfile_path\u001b[49m\u001b[43m,\u001b[49m\u001b[43m \u001b[49m\u001b[38;5;124;43m\"\u001b[39;49m\u001b[38;5;124;43mrt\u001b[39;49m\u001b[38;5;124;43m\"\u001b[39;49m\u001b[43m)\u001b[49m \u001b[38;5;28;01mas\u001b[39;00m f:  \u001b[38;5;66;03m# Read as text\u001b[39;00m\n\u001b[0;32m     13\u001b[0m         \u001b[38;5;28;01mfor\u001b[39;00m line \u001b[38;5;129;01min\u001b[39;00m f:\n\u001b[0;32m     14\u001b[0m             \u001b[38;5;28;01mif\u001b[39;00m line\u001b[38;5;241m.\u001b[39mstartswith(\u001b[38;5;124m\"\u001b[39m\u001b[38;5;124m#\u001b[39m\u001b[38;5;124m\"\u001b[39m):  \u001b[38;5;66;03m# Ignore comments in the file\u001b[39;00m\n",
      "File \u001b[1;32mc:\\Users\\Abdelaziz Guelfane\\micromamba\\envs\\snap_env\\lib\\gzip.py:58\u001b[0m, in \u001b[0;36mopen\u001b[1;34m(filename, mode, compresslevel, encoding, errors, newline)\u001b[0m\n\u001b[0;32m     56\u001b[0m gz_mode \u001b[38;5;241m=\u001b[39m mode\u001b[38;5;241m.\u001b[39mreplace(\u001b[38;5;124m\"\u001b[39m\u001b[38;5;124mt\u001b[39m\u001b[38;5;124m\"\u001b[39m, \u001b[38;5;124m\"\u001b[39m\u001b[38;5;124m\"\u001b[39m)\n\u001b[0;32m     57\u001b[0m \u001b[38;5;28;01mif\u001b[39;00m \u001b[38;5;28misinstance\u001b[39m(filename, (\u001b[38;5;28mstr\u001b[39m, \u001b[38;5;28mbytes\u001b[39m, os\u001b[38;5;241m.\u001b[39mPathLike)):\n\u001b[1;32m---> 58\u001b[0m     binary_file \u001b[38;5;241m=\u001b[39m \u001b[43mGzipFile\u001b[49m\u001b[43m(\u001b[49m\u001b[43mfilename\u001b[49m\u001b[43m,\u001b[49m\u001b[43m \u001b[49m\u001b[43mgz_mode\u001b[49m\u001b[43m,\u001b[49m\u001b[43m \u001b[49m\u001b[43mcompresslevel\u001b[49m\u001b[43m)\u001b[49m\n\u001b[0;32m     59\u001b[0m \u001b[38;5;28;01melif\u001b[39;00m \u001b[38;5;28mhasattr\u001b[39m(filename, \u001b[38;5;124m\"\u001b[39m\u001b[38;5;124mread\u001b[39m\u001b[38;5;124m\"\u001b[39m) \u001b[38;5;129;01mor\u001b[39;00m \u001b[38;5;28mhasattr\u001b[39m(filename, \u001b[38;5;124m\"\u001b[39m\u001b[38;5;124mwrite\u001b[39m\u001b[38;5;124m\"\u001b[39m):\n\u001b[0;32m     60\u001b[0m     binary_file \u001b[38;5;241m=\u001b[39m GzipFile(\u001b[38;5;28;01mNone\u001b[39;00m, gz_mode, compresslevel, filename)\n",
      "File \u001b[1;32mc:\\Users\\Abdelaziz Guelfane\\micromamba\\envs\\snap_env\\lib\\gzip.py:173\u001b[0m, in \u001b[0;36mGzipFile.__init__\u001b[1;34m(self, filename, mode, compresslevel, fileobj, mtime)\u001b[0m\n\u001b[0;32m    171\u001b[0m     mode \u001b[38;5;241m+\u001b[39m\u001b[38;5;241m=\u001b[39m \u001b[38;5;124m'\u001b[39m\u001b[38;5;124mb\u001b[39m\u001b[38;5;124m'\u001b[39m\n\u001b[0;32m    172\u001b[0m \u001b[38;5;28;01mif\u001b[39;00m fileobj \u001b[38;5;129;01mis\u001b[39;00m \u001b[38;5;28;01mNone\u001b[39;00m:\n\u001b[1;32m--> 173\u001b[0m     fileobj \u001b[38;5;241m=\u001b[39m \u001b[38;5;28mself\u001b[39m\u001b[38;5;241m.\u001b[39mmyfileobj \u001b[38;5;241m=\u001b[39m \u001b[43mbuiltins\u001b[49m\u001b[38;5;241;43m.\u001b[39;49m\u001b[43mopen\u001b[49m\u001b[43m(\u001b[49m\u001b[43mfilename\u001b[49m\u001b[43m,\u001b[49m\u001b[43m \u001b[49m\u001b[43mmode\u001b[49m\u001b[43m \u001b[49m\u001b[38;5;129;43;01mor\u001b[39;49;00m\u001b[43m \u001b[49m\u001b[38;5;124;43m'\u001b[39;49m\u001b[38;5;124;43mrb\u001b[39;49m\u001b[38;5;124;43m'\u001b[39;49m\u001b[43m)\u001b[49m\n\u001b[0;32m    174\u001b[0m \u001b[38;5;28;01mif\u001b[39;00m filename \u001b[38;5;129;01mis\u001b[39;00m \u001b[38;5;28;01mNone\u001b[39;00m:\n\u001b[0;32m    175\u001b[0m     filename \u001b[38;5;241m=\u001b[39m \u001b[38;5;28mgetattr\u001b[39m(fileobj, \u001b[38;5;124m'\u001b[39m\u001b[38;5;124mname\u001b[39m\u001b[38;5;124m'\u001b[39m, \u001b[38;5;124m'\u001b[39m\u001b[38;5;124m'\u001b[39m)\n",
      "\u001b[1;31mOSError\u001b[0m: [Errno 22] Invalid argument: 'file_path = \"CA-GrQc.txt\"'"
     ]
    }
   ],
   "source": [
    "import snap\n",
    "import gzip\n",
    "import networkx as nx\n",
    "import community as community_louvain\n",
    "\n",
    "import matplotlib.pyplot as plt\n",
    "\n",
    "\n",
    "def load_graph_from_gz(file_path):\n",
    "    G = snap.TUNGraph.New()  # Create an undirected graph\n",
    "\n",
    "    with gzip.open(file_path, \"rt\") as f:  # Read as text\n",
    "        for line in f:\n",
    "            if line.startswith(\"#\"):  # Ignore comments in the file\n",
    "                continue\n",
    "            u, v = map(int, line.strip().split())  # Read node pairs\n",
    "            if not G.IsNode(u):\n",
    "                G.AddNode(u)\n",
    "            if not G.IsNode(v):\n",
    "                G.AddNode(v)\n",
    "            G.AddEdge(u, v)\n",
    "\n",
    "    return G\n",
    "\n",
    "\n",
    "def snap_to_nx(snap_graph):\n",
    "    nx_graph = nx.Graph()\n",
    "    for node in snap_graph.Nodes():\n",
    "        nx_graph.add_node(node.GetId())\n",
    "    for edge in snap_graph.Edges():\n",
    "        nx_graph.add_edge(edge.GetSrcNId(), edge.GetDstNId())\n",
    "    return nx_graph\n",
    "\n",
    "\n",
    "# Load the graph\n",
    "file_path = 'file_path = \"CA-GrQc.txt\"'\n",
    "snap_graph = load_graph_from_gz(file_path)\n",
    "\n",
    "# Basic graph properties\n",
    "print(\"Number of Nodes:\", snap_graph.GetNodes())\n",
    "print(\"Number of Edges:\", snap_graph.GetEdges())\n",
    "\n",
    "# Compute degree distribution\n",
    "DegToCntV = snap.TIntPrV()\n",
    "snap.GetDegCnt(snap_graph, DegToCntV)\n",
    "\n",
    "# Print degree distribution\n",
    "for item in DegToCntV:\n",
    "    print(f\"Degree: {item.GetVal1()}, Count: {item.GetVal2()}\")\n",
    "\n",
    "# Convert to NetworkX graph\n",
    "nx_graph = snap_to_nx(snap_graph)\n",
    "\n",
    "# Visualize the graph\n",
    "plt.figure(figsize=(10, 8))\n",
    "nx.draw(nx_graph, node_size=10, edge_color=\"gray\", alpha=0.7, with_labels=False)\n",
    "plt.title(\"Graph Visualization of ca-GrQc Dataset\")\n",
    "plt.show()\n",
    "\n",
    "# Compute key metrics\n",
    "clustering_coeff = snap.GetClustCf(snap_graph)\n",
    "print(\"Clustering Coefficient:\", clustering_coeff)\n",
    "\n",
    "diameter = snap.GetBfsFullDiam(snap_graph, 100, False)\n",
    "print(\"Graph Diameter:\", diameter)\n",
    "\n",
    "components = snap.TCnComV()\n",
    "snap.GetWccs(snap_graph, components)\n",
    "print(\"Number of Connected Components:\", len(components))\n",
    "\n",
    "# Community detection\n",
    "partition = community_louvain.best_partition(nx_graph)\n",
    "\n",
    "# Visualize communities\n",
    "plt.figure(figsize=(10, 8))\n",
    "nx.draw(\n",
    "    nx_graph,\n",
    "    node_color=list(partition.values()),\n",
    "    node_size=10,\n",
    "    cmap=plt.cm.rainbow,\n",
    "    with_labels=False,\n",
    ")\n",
    "plt.title(\"Community Detection using Louvain Method\")\n",
    "plt.show()\n"
   ]
  }
 ],
 "metadata": {
  "kernelspec": {
   "display_name": "Python 3",
   "language": "python",
   "name": "python3"
  },
  "language_info": {
   "codemirror_mode": {
    "name": "ipython",
    "version": 3
   },
   "file_extension": ".py",
   "mimetype": "text/x-python",
   "name": "python",
   "nbconvert_exporter": "python",
   "pygments_lexer": "ipython3",
   "version": "3.9.21"
  }
 },
 "nbformat": 4,
 "nbformat_minor": 2
}
